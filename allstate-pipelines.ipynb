{
 "cells": [
  {
   "cell_type": "code",
   "execution_count": 3,
   "metadata": {},
   "outputs": [],
   "source": [
    "import numpy as np\n",
    "import pandas as pd\n",
    "from sklearn.base import RegressorMixin, BaseEstimator\n",
    "from sklearn.model_selection import cross_val_score, train_test_split, KFold\n",
    "from sklearn.feature_extraction import DictVectorizer\n",
    "from sklearn.metrics import make_scorer\n",
    "from sklearn.pipeline import make_pipeline\n",
    "from sklearn.preprocessing import FunctionTransformer\n",
    "\n",
    "%run ds_tools/dstools/ml/transformers.py\n",
    "\n",
    "%run ds_tools/dstools/ml/xgboost_tools.py\n",
    "\n",
    "%run ds_tools/dstools/h2o/sklearn_tools.py"
   ]
  },
  {
   "cell_type": "code",
   "execution_count": 4,
   "metadata": {
    "collapsed": true
   },
   "outputs": [],
   "source": [
    "class TargetTransfRegressor(BaseEstimator, RegressorMixin):\n",
    "    def __init__(self, base_est, transf_to, transf_from):\n",
    "        self.base_est = base_est\n",
    "        self.transf_to = transf_to\n",
    "        self.transf_from = transf_from\n",
    "\n",
    "    def fit(self, X, y):\n",
    "        self.base_est.fit(X, self.transf_to(y))\n",
    "        return self\n",
    "\n",
    "    def predict(self, X):\n",
    "        return self.transf_from(self.base_est.predict(X))"
   ]
  },
  {
   "cell_type": "code",
   "execution_count": 5,
   "metadata": {
    "collapsed": true
   },
   "outputs": [],
   "source": [
    "def mape(y_true, y_pred):\n",
    "    return np.average(np.abs(y_pred - y_true), axis=0)\n",
    "\n",
    "\n",
    "def mape_evalerror_exp(preds, dtrain):\n",
    "    res = np.average(np.abs(np.exp(preds) - np.exp(dtrain.get_label())), axis=0)\n",
    "    return 'mae', res\n",
    "\n",
    "\n",
    "def mape_evalerror(preds, dtrain):\n",
    "    return 'mape', mape(dtrain.get_label(), preds)\n",
    "\n",
    "\n",
    "def ybin(y):\n",
    "    return (y.astype(np.float64) / np.max(y) * 10).astype(np.byte)"
   ]
  },
  {
   "cell_type": "code",
   "execution_count": 15,
   "metadata": {
    "collapsed": true
   },
   "outputs": [],
   "source": [
    "def cv_test(est):\n",
    "    df = pd.read_csv('train.csv.gz', index_col='id')\n",
    "\n",
    "    features = df.drop('loss', axis=1)\n",
    "    target = df.loss\n",
    "\n",
    "    if type(est) is tuple:\n",
    "        transform, estimator = est\n",
    "        features_t = transform.fit_transform(features, target)\n",
    "    else:\n",
    "        estimator = est\n",
    "        features_t = features\n",
    "\n",
    "    cv = KFold(3, shuffle=True)\n",
    "\n",
    "    scores = cross_val_score(estimator, X=features_t, y=target, scoring=make_scorer(mape), cv=cv)\n",
    "    print('mean: {mean}, std: {std}'.format(mean=scores.mean(), std=scores.std()))"
   ]
  },
  {
   "cell_type": "code",
   "execution_count": 7,
   "metadata": {
    "collapsed": true
   },
   "outputs": [],
   "source": [
    "def pred_vs_true(est, path):\n",
    "    df = pd.read_csv('train.csv.gz', index_col='id')\n",
    "    features = df.drop('loss', axis=1)\n",
    "    target = df.loss.values\n",
    "\n",
    "    transform, estimator = est\n",
    "    pl = make_pipeline(transform, estimator)\n",
    "\n",
    "    x_train, x_test, y_train, y_test = train_test_split(features, target, train_size=0.9, random_state=123)\n",
    "    y_pred = pl.fit(x_train, y_train).predict(x_test)\n",
    "    pd.DataFrame({'pred': y_pred, 'true': y_test}).to_csv(path, index=False, sep='\\t')"
   ]
  },
  {
   "cell_type": "code",
   "execution_count": 8,
   "metadata": {
    "collapsed": true
   },
   "outputs": [],
   "source": [
    "xgb_params = {\n",
    "    \"objective\": \"reg:linear\",\n",
    "    \"eta\": 0.1,\n",
    "    \"min_child_weight\": 6,\n",
    "    \"subsample\": 0.7,\n",
    "    \"colsample_bytree\": 0.5,\n",
    "    \"eval_func\": mape_evalerror_exp,\n",
    "    \"silent\": 1,\n",
    "    \"max_depth\": 4,\n",
    "    \"num_rounds\": 10000,\n",
    "    \"num_es_rounds\": 120,\n",
    "    \"es_share\": .1,\n",
    "    \"ybin\": ybin,\n",
    "}"
   ]
  },
  {
   "cell_type": "code",
   "execution_count": 9,
   "metadata": {
    "collapsed": true
   },
   "outputs": [],
   "source": [
    "xgb_params2 = {\n",
    "    \"objective\": \"count:poisson\",\n",
    "    \"eta\": 0.05,\n",
    "    \"min_child_weight\": 6,\n",
    "    \"subsample\": 0.7,\n",
    "    \"colsample_bytree\": 0.5,\n",
    "    \"eval_func\": mape_evalerror,\n",
    "    \"silent\": 1,\n",
    "    \"max_depth\": 4,\n",
    "    \"num_rounds\": 1000,\n",
    "    \"num_es_rounds\": None,\n",
    "    \"es_share\": .1,\n",
    "    \"ybin\": ybin,\n",
    "}"
   ]
  },
  {
   "cell_type": "code",
   "execution_count": 11,
   "metadata": {},
   "outputs": [],
   "source": [
    "def high_cardinality_zeroing(df, min_entries=50, substitute='zeroed'):\n",
    "    dfc = df.copy()\n",
    "    for col in dfc.select_dtypes(include=['object']):\n",
    "        vc = dfc[col].value_counts()\n",
    "        dfc.ix[~dfc[col].isin(vc[vc >= min_entries].index), col] = substitute\n",
    "    return dfc\n",
    "\n",
    "hcz_transf = FunctionTransformer(high_cardinality_zeroing, validate=False)\n",
    "\n",
    "df2dict = FunctionTransformer(\n",
    "    lambda x: x.to_dict(orient='records'), validate=False)\n",
    "\n",
    "transf = make_pipeline(\n",
    "    hcz_transf,\n",
    "    df2dict,\n",
    "    DictVectorizer(sparse=False))\n",
    "\n",
    "transf2 = count_encoder()\n",
    "\n",
    "transf3 = target_mean_encoder(size_threshold=20)\n",
    "\n",
    "transf4 = empirical_bayes_encoder_normal_distr()"
   ]
  },
  {
   "cell_type": "code",
   "execution_count": 16,
   "metadata": {
    "collapsed": true
   },
   "outputs": [],
   "source": [
    "# mean: 1155.38459245, std: 1.66143441458\n",
    "est1 = make_pipeline(\n",
    "    transf,\n",
    "    TargetTransfRegressor(XGBoostRegressor(**xgb_params), np.log, np.exp)\n",
    ")"
   ]
  },
  {
   "cell_type": "code",
   "execution_count": 17,
   "metadata": {
    "collapsed": true
   },
   "outputs": [],
   "source": [
    "# mean: 1155.41551477, std: 1.95293210141\n",
    "est2 = make_pipeline(\n",
    "    transf2,\n",
    "    TargetTransfRegressor(XGBoostRegressor(**xgb_params), np.log, np.exp)\n",
    ")"
   ]
  },
  {
   "cell_type": "code",
   "execution_count": 18,
   "metadata": {
    "collapsed": true
   },
   "outputs": [],
   "source": [
    "# mean: 1193.08011539, std: 3.45706005863\n",
    "est3 = make_pipeline(\n",
    "    transf2,\n",
    "    XGBoostRegressor(**xgb_params2)\n",
    ")"
   ]
  },
  {
   "cell_type": "code",
   "execution_count": 19,
   "metadata": {
    "collapsed": true
   },
   "outputs": [],
   "source": [
    "h2o_gbm_params = {\n",
    "    'model_id': 'kaggle_allstate_gbm',\n",
    "    'distribution': 'laplace',\n",
    "    'ntrees': 1000,\n",
    "    'learn_rate': .1,\n",
    "    'max_depth': 4,\n",
    "    'sample_rate': .7,\n",
    "    'col_sample_rate_per_tree': .5\n",
    "}\n",
    "\n",
    "# mean: 1169.26570704, std: 8.97162412921\n",
    "est4 = H2ODecorator('gbm', h2o_gbm_params)"
   ]
  },
  {
   "cell_type": "code",
   "execution_count": 18,
   "metadata": {
    "collapsed": true
   },
   "outputs": [],
   "source": [
    "# mean: 1154.64991991, std: 4.90194453789\n",
    "est6 = make_pipeline(\n",
    "    transf3,\n",
    "    TargetTransfRegressor(XGBoostRegressor(**xgb_params), np.log, np.exp)\n",
    ")"
   ]
  },
  {
   "cell_type": "code",
   "execution_count": 19,
   "metadata": {},
   "outputs": [
    {
     "name": "stdout",
     "output_type": "stream",
     "text": [
      "[0]\ttrain-mae:3041.1\tvalidation-mae:3035.43\n",
      "Multiple eval metrics have been passed: 'validation-mae' will be used for early stopping.\n",
      "\n",
      "Will train until validation-mae hasn't improved in 120 rounds.\n",
      "[120]\ttrain-mae:1163.03\tvalidation-mae:1178.73\n",
      "[240]\ttrain-mae:1137.35\tvalidation-mae:1164.95\n",
      "[360]\ttrain-mae:1123.28\tvalidation-mae:1161.24\n",
      "[480]\ttrain-mae:1111.53\tvalidation-mae:1159.18\n",
      "[600]\ttrain-mae:1100.89\tvalidation-mae:1157.77\n",
      "[720]\ttrain-mae:1092.4\tvalidation-mae:1157.22\n",
      "[840]\ttrain-mae:1084.09\tvalidation-mae:1157.4\n",
      "Stopping. Best iteration:\n",
      "[825]\ttrain-mae:1085.02\tvalidation-mae:1156.93\n",
      "\n",
      "[0]\ttrain-mae:3042.26\tvalidation-mae:3020.93\n",
      "Multiple eval metrics have been passed: 'validation-mae' will be used for early stopping.\n",
      "\n",
      "Will train until validation-mae hasn't improved in 120 rounds.\n",
      "[120]\ttrain-mae:1161.29\tvalidation-mae:1171.96\n",
      "[240]\ttrain-mae:1135.8\tvalidation-mae:1158.46\n",
      "[360]\ttrain-mae:1120.72\tvalidation-mae:1152.84\n",
      "[480]\ttrain-mae:1109.44\tvalidation-mae:1151.63\n",
      "[600]\ttrain-mae:1100.01\tvalidation-mae:1151.35\n",
      "Stopping. Best iteration:\n",
      "[531]\ttrain-mae:1105.19\tvalidation-mae:1150.35\n",
      "\n",
      "[0]\ttrain-mae:3022.51\tvalidation-mae:3009.35\n",
      "Multiple eval metrics have been passed: 'validation-mae' will be used for early stopping.\n",
      "\n",
      "Will train until validation-mae hasn't improved in 120 rounds.\n",
      "[120]\ttrain-mae:1159.8\tvalidation-mae:1186.29\n",
      "[240]\ttrain-mae:1134.3\tvalidation-mae:1170.88\n",
      "[360]\ttrain-mae:1118.79\tvalidation-mae:1164.19\n",
      "[480]\ttrain-mae:1107.47\tvalidation-mae:1161\n",
      "[600]\ttrain-mae:1098.52\tvalidation-mae:1158.74\n",
      "Stopping. Best iteration:\n",
      "[593]\ttrain-mae:1098.97\tvalidation-mae:1158.5\n",
      "\n",
      "mean: 1154.1516704267262, std: 3.13894248441375\n",
      "CPU times: user 11min 50s, sys: 16 s, total: 12min 6s\n",
      "Wall time: 12min 18s\n"
     ]
    }
   ],
   "source": [
    "%%time\n",
    "cv_test(est6)"
   ]
  },
  {
   "cell_type": "code",
   "execution_count": 13,
   "metadata": {
    "collapsed": true
   },
   "outputs": [],
   "source": [
    "est7 = make_pipeline(\n",
    "    transf4,\n",
    "    TargetTransfRegressor(XGBoostRegressor(**xgb_params), np.log, np.exp)\n",
    ")"
   ]
  },
  {
   "cell_type": "code",
   "execution_count": 16,
   "metadata": {
    "scrolled": false
   },
   "outputs": [
    {
     "name": "stdout",
     "output_type": "stream",
     "text": [
      "[0]\ttrain-mae:3028.06\tvalidation-mae:3053.95\n",
      "Multiple eval metrics have been passed: 'validation-mae' will be used for early stopping.\n",
      "\n",
      "Will train until validation-mae hasn't improved in 120 rounds.\n",
      "[120]\ttrain-mae:1161.49\tvalidation-mae:1185.23\n",
      "[240]\ttrain-mae:1135.97\tvalidation-mae:1172.01\n",
      "[360]\ttrain-mae:1122.02\tvalidation-mae:1166.24\n",
      "[480]\ttrain-mae:1110.81\tvalidation-mae:1163.61\n",
      "[600]\ttrain-mae:1101.16\tvalidation-mae:1162.5\n",
      "[720]\ttrain-mae:1092.72\tvalidation-mae:1161.18\n",
      "[840]\ttrain-mae:1084.41\tvalidation-mae:1159.57\n",
      "[960]\ttrain-mae:1077.96\tvalidation-mae:1159.35\n",
      "[1080]\ttrain-mae:1070.54\tvalidation-mae:1158.29\n",
      "Stopping. Best iteration:\n",
      "[1048]\ttrain-mae:1072.11\tvalidation-mae:1158.01\n",
      "\n",
      "[0]\ttrain-mae:3037.67\tvalidation-mae:3055.18\n",
      "Multiple eval metrics have been passed: 'validation-mae' will be used for early stopping.\n",
      "\n",
      "Will train until validation-mae hasn't improved in 120 rounds.\n",
      "[120]\ttrain-mae:1168.99\tvalidation-mae:1174.61\n",
      "[240]\ttrain-mae:1142.27\tvalidation-mae:1159.38\n",
      "[360]\ttrain-mae:1127.93\tvalidation-mae:1154.66\n",
      "[480]\ttrain-mae:1115.82\tvalidation-mae:1152.23\n",
      "[600]\ttrain-mae:1106.65\tvalidation-mae:1151.58\n",
      "[720]\ttrain-mae:1097.67\tvalidation-mae:1150.86\n",
      "[840]\ttrain-mae:1089.59\tvalidation-mae:1150.57\n",
      "Stopping. Best iteration:\n",
      "[790]\ttrain-mae:1092.89\tvalidation-mae:1150.11\n",
      "\n",
      "[0]\ttrain-mae:3030.26\tvalidation-mae:3045.52\n",
      "Multiple eval metrics have been passed: 'validation-mae' will be used for early stopping.\n",
      "\n",
      "Will train until validation-mae hasn't improved in 120 rounds.\n",
      "[120]\ttrain-mae:1165.48\tvalidation-mae:1182.82\n",
      "[240]\ttrain-mae:1137.88\tvalidation-mae:1166.83\n",
      "[360]\ttrain-mae:1122.28\tvalidation-mae:1161.53\n",
      "[480]\ttrain-mae:1111.46\tvalidation-mae:1162.62\n",
      "Stopping. Best iteration:\n",
      "[360]\ttrain-mae:1122.28\tvalidation-mae:1161.53\n",
      "\n",
      "mean: 1154.561211218017, std: 4.448944633320471\n",
      "CPU times: user 13min 24s, sys: 15.1 s, total: 13min 39s\n",
      "Wall time: 13min 55s\n"
     ]
    }
   ],
   "source": [
    "%%time\n",
    "cv_test(est7)"
   ]
  },
  {
   "cell_type": "code",
   "execution_count": null,
   "metadata": {
    "collapsed": true
   },
   "outputs": [],
   "source": []
  }
 ],
 "metadata": {
  "kernelspec": {
   "display_name": "Python 3",
   "language": "python",
   "name": "python3"
  },
  "language_info": {
   "codemirror_mode": {
    "name": "ipython",
    "version": 3
   },
   "file_extension": ".py",
   "mimetype": "text/x-python",
   "name": "python",
   "nbconvert_exporter": "python",
   "pygments_lexer": "ipython3",
   "version": "3.6.3"
  }
 },
 "nbformat": 4,
 "nbformat_minor": 1
}
